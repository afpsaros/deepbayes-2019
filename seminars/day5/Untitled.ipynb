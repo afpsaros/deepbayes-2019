{
 "cells": [
  {
   "cell_type": "code",
   "execution_count": 1,
   "metadata": {},
   "outputs": [],
   "source": [
    "import torch\n",
    "import torch.nn.functional as F\n",
    "from torch import nn"
   ]
  },
  {
   "cell_type": "code",
   "execution_count": 90,
   "metadata": {},
   "outputs": [],
   "source": [
    "class NN_1:\n",
    "    def __init__(self, d_input, width, d_output):\n",
    "        \n",
    "        self.weights = {\n",
    "                        'h1': torch.randn((width, d_input), requires_grad=True), \n",
    "                        'out': torch.randn((d_output, width), requires_grad=True)\n",
    "                    }\n",
    "        \n",
    "        self.biases = {\n",
    "                        'h1': torch.randn((width), requires_grad=True), \n",
    "                        'out': torch.randn((d_output), requires_grad=True)\n",
    "                    }\n",
    "        \n",
    "        self.parameters = []\n",
    "        for i in range(len(self.weights) * 2):\n",
    "            if i % 2 == 0:\n",
    "                self.parameters.append(list(self.weights.values())[int(i / 2)])\n",
    "            else:\n",
    "                self.parameters.append(list(self.biases.values())[int(i / 2)])\n",
    "\n",
    "        \n",
    "    def forward(self, x):\n",
    "        x = torch.tanh((x @ torch.transpose(self.weights['h1'], 0, 1)) + self.biases['h1'])\n",
    "        x = (x @ torch.transpose(self.weights['out'], 0, 1)) + self.biases['out']\n",
    "        \n",
    "        return x\n",
    "    \n",
    "class NN_2(nn.Module):\n",
    "    def __init__(self, d_input, width, d_output):\n",
    "        super().__init__()\n",
    "        \n",
    "        self.fc1 = nn.Linear(d_input, width)\n",
    "        self.fc2 = nn.Linear(width, d_output)\n",
    "        \n",
    "    def forward(self, x):\n",
    "        x = torch.tanh(self.fc1(x))\n",
    "        x = self.fc2(x)\n",
    "        \n",
    "        return x"
   ]
  },
  {
   "cell_type": "code",
   "execution_count": 115,
   "metadata": {},
   "outputs": [
    {
     "name": "stdout",
     "output_type": "stream",
     "text": [
      "tensor([[ 1.5410, -0.2934]])\n",
      "tensor([ 1.5410, -0.2934])\n"
     ]
    }
   ],
   "source": [
    "print(torch.zeros(1,2).normal_(0, 1, generator=torch.manual_seed(0)))\n",
    "\n",
    "print(torch.normal(mean=torch.zeros(2), std=torch.ones(2), generator=torch.manual_seed(0)))"
   ]
  },
  {
   "cell_type": "code",
   "execution_count": 93,
   "metadata": {},
   "outputs": [
    {
     "name": "stdout",
     "output_type": "stream",
     "text": [
      "torch.Size([2, 2])\n",
      "torch.Size([2, 2])\n",
      "tensor([[-1.5383],\n",
      "        [-1.6069]], grad_fn=<AddBackward0>)\n"
     ]
    }
   ],
   "source": [
    "x = torch.Tensor([[20., 30.], [10., 40.]])\n",
    "print(x.shape)\n",
    "net_1 = NN_1(2, 2, 1)\n",
    "print(net_1.weights['h1'].shape)\n",
    "print(net_1.forward(x))\n",
    "\n",
    "y = torch.Tensor([[2.], [1.]])\n",
    "\n",
    "loss = torch.sum(y - net_1.forward(x))\n",
    "\n",
    "loss.backward()"
   ]
  },
  {
   "cell_type": "code",
   "execution_count": 117,
   "metadata": {},
   "outputs": [
    {
     "name": "stdout",
     "output_type": "stream",
     "text": [
      "Parameter containing:\n",
      "tensor([[-0.4683, -0.2915],\n",
      "        [ 0.0262,  0.2795]], requires_grad=True)\n",
      "Parameter containing:\n",
      "tensor([ 0.4243, -0.4794], requires_grad=True)\n",
      "Parameter containing:\n",
      "tensor([[-0.3079,  0.2568]], requires_grad=True)\n",
      "Parameter containing:\n",
      "tensor([0.5872], requires_grad=True)\n",
      "tensor([[-1.5383],\n",
      "        [-1.6069]], grad_fn=<AddmmBackward>)\n",
      "tensor([[2.6045, 3.9067],\n",
      "        [0.0000, 0.0000]]) tensor([[2.6045, 3.9067],\n",
      "        [0.0000, 0.0000]])\n",
      "tensor([0.1302, 0.0000]) tensor([0.1302, 0.0000])\n",
      "tensor([[-1.8964,  2.0000]]) tensor([[-1.8964,  2.0000]])\n",
      "tensor([-2.]) tensor([-2.])\n"
     ]
    }
   ],
   "source": [
    "net_2 = NN_2(2, 2, 1)\n",
    "# x = torch.Tensor([[20.], [10.]])\n",
    "for p2, p1 in zip(net_2.parameters(), net_1.parameters):\n",
    "    print(p2)\n",
    "    p2.data = p1\n",
    "    \n",
    "print(net_2.forward(x))\n",
    " \n",
    "loss = torch.sum(y - net_2.forward(x))\n",
    "\n",
    "loss.backward()\n",
    "    \n",
    "for p2, p1 in zip(net_2.parameters(), net_1.parameters):\n",
    "    print(p2.grad, p1.grad)\n"
   ]
  },
  {
   "cell_type": "code",
   "execution_count": 5,
   "metadata": {},
   "outputs": [
    {
     "name": "stdout",
     "output_type": "stream",
     "text": [
      "0\n",
      "1\n",
      "2\n",
      "[1, 4, 2, 5, 3, 6]\n"
     ]
    }
   ],
   "source": [
    "a = [1, 2, 3]\n",
    "\n",
    "b = [4, 5, 6]\n",
    "\n",
    "c = [7, 8, 9]\n",
    "\n",
    "# for i, (aa, (bb, cc)) in enumerate(zip(a, zip(b, c))):\n",
    "#     print(aa, bb, cc)\n",
    "\n",
    "l = []\n",
    "for i in range(len(a) * 2):\n",
    "    if i % 2 == 0:\n",
    "        print(int(i / 2))\n",
    "        l.append(a[int(i / 2)])\n",
    "    else:\n",
    "        l.append(b[int(i / 2)])\n",
    "\n",
    "print(l)"
   ]
  },
  {
   "cell_type": "code",
   "execution_count": 7,
   "metadata": {},
   "outputs": [
    {
     "name": "stdout",
     "output_type": "stream",
     "text": [
      "{'a': 4, 'b': 5, 'c': 6}\n"
     ]
    }
   ],
   "source": [
    "ad = dict(zip(['a', 'b', 'c'], a))\n",
    "\n",
    "bd = dict(zip(['a', 'b', 'c'], b))\n",
    "\n",
    "lk = []\n",
    "lv = []\n",
    "for i in range(len(ad) * 2):\n",
    "    if i % 2 == 0:\n",
    "        lk.append(list(ad.keys())[int(i / 2)])\n",
    "        lv.append(list(ad.values())[int(i / 2)])\n",
    "    else:\n",
    "        lk.append(list(bd.keys())[int(i / 2)])\n",
    "        lv.append(list(bd.values())[int(i / 2)])\n",
    "        \n",
    "params = dict(zip(lk, lv))\n",
    "print(params)"
   ]
  },
  {
   "cell_type": "code",
   "execution_count": 64,
   "metadata": {},
   "outputs": [
    {
     "name": "stdout",
     "output_type": "stream",
     "text": [
      "['a', 'b', 'c', 'a', 'b', 'c']\n"
     ]
    }
   ],
   "source": [
    "print(list(ad.keys())*2)"
   ]
  },
  {
   "cell_type": "code",
   "execution_count": 61,
   "metadata": {},
   "outputs": [
    {
     "name": "stdout",
     "output_type": "stream",
     "text": [
      "MyNetwork(\n",
      "  (fc1): Linear(in_features=16, out_features=12, bias=True)\n",
      "  (fc2): Linear(in_features=12, out_features=10, bias=True)\n",
      "  (fc3): Linear(in_features=10, out_features=1, bias=True)\n",
      ")\n"
     ]
    }
   ],
   "source": [
    "import torch\n",
    "import torch.nn.functional as F\n",
    "from torch import nn\n",
    "\n",
    "# define the network class\n",
    "class MyNetwork(nn.Module):\n",
    "    def __init__(self):\n",
    "        # call constructor from superclass\n",
    "        super().__init__()\n",
    "        \n",
    "        # define network layers\n",
    "        self.fc1 = nn.Linear(16, 12)\n",
    "        self.fc2 = nn.Linear(12, 10)\n",
    "        self.fc3 = nn.Linear(10, 1)\n",
    "        \n",
    "    def forward(self, x):\n",
    "        # define forward pass\n",
    "        x = F.relu(self.fc1(x))\n",
    "        x = F.relu(self.fc2(x))\n",
    "        x = torch.sigmoid(self.fc3(x))\n",
    "        return x\n",
    "\n",
    "# instantiate the model\n",
    "model = MyNetwork()\n",
    "\n",
    "# print model architecture\n",
    "print(model)"
   ]
  },
  {
   "cell_type": "code",
   "execution_count": 12,
   "metadata": {},
   "outputs": [
    {
     "name": "stdout",
     "output_type": "stream",
     "text": [
      "Sequential(\n",
      "  (0): Linear(in_features=16, out_features=12, bias=True)\n",
      "  (1): ReLU()\n",
      "  (2): Linear(in_features=12, out_features=10, bias=True)\n",
      "  (3): ReLU()\n",
      "  (4): Linear(in_features=10, out_features=1, bias=True)\n",
      "  (5): Sigmoid()\n",
      ")\n"
     ]
    }
   ],
   "source": [
    "from torch import nn\n",
    "\n",
    "# define model architecture\n",
    "model = nn.Sequential(\n",
    "    nn.Linear(16, 12),\n",
    "    nn.ReLU(),\n",
    "    nn.Linear(12, 10),\n",
    "    nn.ReLU(),\n",
    "    nn.Linear(10, 1),\n",
    "    nn.Sigmoid()\n",
    ")\n",
    "\n",
    "# print model architecture\n",
    "print(model)"
   ]
  },
  {
   "cell_type": "code",
   "execution_count": 13,
   "metadata": {},
   "outputs": [
    {
     "name": "stdout",
     "output_type": "stream",
     "text": [
      "Linear(in_features=16, out_features=12, bias=True) Parameter containing:\n",
      "tensor([[ 0.2065, -0.0631,  0.0714,  0.2364,  0.0261,  0.0686, -0.0647,  0.0578,\n",
      "         -0.1182,  0.0092,  0.1839,  0.1092, -0.2156, -0.0449,  0.2216, -0.2389],\n",
      "        [-0.2302,  0.0407,  0.2363,  0.1472, -0.0643, -0.2347,  0.2033,  0.0621,\n",
      "          0.0259,  0.1800,  0.0557, -0.2329, -0.0376,  0.2089,  0.0487, -0.0672],\n",
      "        [ 0.0881,  0.1264,  0.0358, -0.0866,  0.0249,  0.2120, -0.0980,  0.0018,\n",
      "         -0.0894, -0.0676,  0.1094, -0.2233, -0.1025, -0.0570, -0.0228,  0.0078],\n",
      "        [ 0.0427, -0.1092,  0.1874,  0.1790,  0.1495,  0.0125, -0.1557, -0.0048,\n",
      "          0.0672,  0.0308, -0.2470, -0.2346,  0.0121, -0.0025,  0.1636, -0.0887],\n",
      "        [-0.0802,  0.1188, -0.1589, -0.0563, -0.1991, -0.0490, -0.1646, -0.0328,\n",
      "         -0.1614,  0.1260,  0.1872, -0.1201, -0.0663, -0.0315,  0.0454, -0.0108],\n",
      "        [-0.1953, -0.0577,  0.1354,  0.0608, -0.0005,  0.2087, -0.0103, -0.1484,\n",
      "         -0.0593,  0.2160,  0.1900,  0.1975, -0.2249, -0.2076, -0.2067, -0.0693],\n",
      "        [-0.1187,  0.0811,  0.1146, -0.1624,  0.0322,  0.1710, -0.0632, -0.0125,\n",
      "          0.1342, -0.2049, -0.1173,  0.1194, -0.0981, -0.2377, -0.1663,  0.1961],\n",
      "        [ 0.1864,  0.2453,  0.2390, -0.1725,  0.0263,  0.0326,  0.0225, -0.1351,\n",
      "          0.1862,  0.2071, -0.1694, -0.0121, -0.0501, -0.2016,  0.2333, -0.0299],\n",
      "        [ 0.0561, -0.1920,  0.0433,  0.0006, -0.2433, -0.1971, -0.0907, -0.0554,\n",
      "         -0.0226,  0.2008,  0.0015,  0.1916, -0.1302,  0.0744, -0.1989, -0.0471],\n",
      "        [ 0.0807, -0.0102, -0.1800, -0.1344,  0.0724, -0.0456, -0.0366,  0.1656,\n",
      "         -0.2206,  0.1105,  0.0395,  0.0524, -0.0207,  0.0129, -0.0910, -0.2477],\n",
      "        [ 0.0890, -0.1344, -0.1075,  0.0586,  0.1676,  0.0779, -0.1682, -0.0646,\n",
      "          0.0925, -0.1922,  0.1907,  0.0009,  0.0405,  0.1655, -0.0928,  0.2052],\n",
      "        [ 0.0303, -0.0926, -0.2306, -0.0069,  0.0206,  0.0734, -0.1885,  0.0072,\n",
      "         -0.2414,  0.0632, -0.2331,  0.1652,  0.0865, -0.2093, -0.0357, -0.1474]],\n",
      "       requires_grad=True)\n"
     ]
    }
   ],
   "source": [
    "print(model[0], model[0].weight)"
   ]
  },
  {
   "cell_type": "code",
   "execution_count": null,
   "metadata": {},
   "outputs": [],
   "source": []
  },
  {
   "cell_type": "code",
   "execution_count": null,
   "metadata": {},
   "outputs": [],
   "source": []
  },
  {
   "cell_type": "code",
   "execution_count": null,
   "metadata": {},
   "outputs": [],
   "source": []
  }
 ],
 "metadata": {
  "kernelspec": {
   "display_name": "Python 3",
   "language": "python",
   "name": "python3"
  },
  "language_info": {
   "codemirror_mode": {
    "name": "ipython",
    "version": 3
   },
   "file_extension": ".py",
   "mimetype": "text/x-python",
   "name": "python",
   "nbconvert_exporter": "python",
   "pygments_lexer": "ipython3",
   "version": "3.7.9"
  }
 },
 "nbformat": 4,
 "nbformat_minor": 4
}
