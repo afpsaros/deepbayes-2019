{
 "cells": [
  {
   "cell_type": "code",
   "execution_count": 5,
   "metadata": {},
   "outputs": [],
   "source": [
    "import torch\n",
    "import torch.nn.functional as F\n",
    "from torch import nn\n",
    "\n",
    "# generating some random features\n",
    "features = torch.randn(1, 16) \n",
    "\n",
    "# # define the weights\n",
    "# W1 = torch.randn((16, 12), requires_grad=True)\n",
    "# W2 = torch.randn((12, 10), requires_grad=True)\n",
    "# W3 = torch.randn((10, 1), requires_grad=True)\n",
    "\n",
    "# # define the bias terms\n",
    "# B1 = torch.randn((12), requires_grad=True)\n",
    "# B2 = torch.randn((10), requires_grad=True)\n",
    "# B3 = torch.randn((1), requires_grad=True)\n",
    "\n",
    "# # calculate hidden and output layers\n",
    "# h1 = F.relu((features @ W1) + B1)\n",
    "# h2 = F.relu((h1 @ W2) + B2)\n",
    "# output = torch.sigmoid((h2 @ W3) + B3)"
   ]
  },
  {
   "cell_type": "code",
   "execution_count": 6,
   "metadata": {},
   "outputs": [],
   "source": [
    "class MyNetwork:\n",
    "    def __init__(self, d_input, width, d_output):\n",
    "        self.W1 = torch.randn((d_input, width), requires_grad=True)\n",
    "        self.W2 = torch.randn((width, d_output), requires_grad=True)\n",
    "        \n",
    "        self.B1 = torch.randn((width), requires_grad=True)\n",
    "        self.B2 = torch.randn((d_output), requires_grad=True)\n",
    "        \n",
    "    def forward(self, x):\n",
    "        # define forward pass\n",
    "        x = torch.tanh((x @ self.W1) + self.B1)\n",
    "        x = (x @ self.W2) + self.B2\n",
    "        return x\n",
    "    \n",
    "# define the network class\n",
    "class MyNetwork_2(nn.Module):\n",
    "    def __init__(self, d_input, width, d_output):\n",
    "        # call constructor from superclass\n",
    "        super().__init__()\n",
    "        \n",
    "        # define network layers\n",
    "        self.fc1 = nn.Linear(d_input, width)\n",
    "        self.fc2 = nn.Linear(width, d_output)\n",
    "        \n",
    "    def forward(self, x):\n",
    "        # define forward pass\n",
    "        x = torch.tanh(self.fc1(x))\n",
    "        x = self.fc2(x)\n",
    "        return x"
   ]
  },
  {
   "cell_type": "code",
   "execution_count": 9,
   "metadata": {},
   "outputs": [
    {
     "ename": "TypeError",
     "evalue": "'MyNetwork' object is not callable",
     "output_type": "error",
     "traceback": [
      "\u001b[1;31m---------------------------------------------------------------------------\u001b[0m",
      "\u001b[1;31mTypeError\u001b[0m                                 Traceback (most recent call last)",
      "\u001b[1;32m<ipython-input-9-2608db785393>\u001b[0m in \u001b[0;36m<module>\u001b[1;34m\u001b[0m\n\u001b[0;32m      3\u001b[0m \u001b[1;33m\u001b[0m\u001b[0m\n\u001b[0;32m      4\u001b[0m \u001b[1;31m# print(net.W1)\u001b[0m\u001b[1;33m\u001b[0m\u001b[1;33m\u001b[0m\u001b[1;33m\u001b[0m\u001b[0m\n\u001b[1;32m----> 5\u001b[1;33m \u001b[0mprint\u001b[0m\u001b[1;33m(\u001b[0m\u001b[0mnet\u001b[0m\u001b[1;33m(\u001b[0m\u001b[0mx\u001b[0m\u001b[1;33m)\u001b[0m\u001b[1;33m)\u001b[0m\u001b[1;33m\u001b[0m\u001b[1;33m\u001b[0m\u001b[0m\n\u001b[0m\u001b[0;32m      6\u001b[0m \u001b[1;33m\u001b[0m\u001b[0m\n\u001b[0;32m      7\u001b[0m \u001b[0mnet\u001b[0m\u001b[1;33m.\u001b[0m\u001b[0mW1\u001b[0m \u001b[1;33m=\u001b[0m \u001b[0mtorch\u001b[0m\u001b[1;33m.\u001b[0m\u001b[0mtensor\u001b[0m\u001b[1;33m(\u001b[0m\u001b[1;33m[\u001b[0m\u001b[1;33m[\u001b[0m\u001b[1;36m0.7682\u001b[0m\u001b[1;33m,\u001b[0m \u001b[1;36m0.7330\u001b[0m\u001b[1;33m]\u001b[0m\u001b[1;33m]\u001b[0m\u001b[1;33m,\u001b[0m \u001b[0mrequires_grad\u001b[0m\u001b[1;33m=\u001b[0m\u001b[1;32mTrue\u001b[0m\u001b[1;33m)\u001b[0m\u001b[1;33m\u001b[0m\u001b[1;33m\u001b[0m\u001b[0m\n",
      "\u001b[1;31mTypeError\u001b[0m: 'MyNetwork' object is not callable"
     ]
    }
   ],
   "source": [
    "x = torch.Tensor([20.])\n",
    "net = MyNetwork(1, 2, 1)\n",
    "\n",
    "# print(net.W1)\n",
    "print(net.forward(x))\n",
    "\n",
    "net.W1 = torch.tensor([[0.7682, 0.7330]], requires_grad=True)\n",
    "\n",
    "net.B1 = torch.tensor([0.0610, 0.6632], requires_grad=True)\n",
    "\n",
    "net.W2 = torch.tensor([[-0.2765], [-0.4346]], requires_grad=True)\n",
    "\n",
    "net.B2 = torch.tensor([0.6827], requires_grad=True)\n",
    "\n",
    "# print(net.W1)\n",
    "\n",
    "x = torch.Tensor([20.])\n",
    "\n",
    "print(net.forward(x))\n",
    "\n"
   ]
  },
  {
   "cell_type": "code",
   "execution_count": 14,
   "metadata": {},
   "outputs": [
    {
     "name": "stdout",
     "output_type": "stream",
     "text": [
      "[Parameter containing:\n",
      "tensor([[-0.0815],\n",
      "        [-0.6139]], requires_grad=True), Parameter containing:\n",
      "tensor([0.8579, 0.0108], requires_grad=True), Parameter containing:\n",
      "tensor([[-0.2260,  0.3210]], requires_grad=True), Parameter containing:\n",
      "tensor([0.4663], requires_grad=True)]\n",
      "[tensor([-0.0815], grad_fn=<UnbindBackward>), tensor([-0.6139], grad_fn=<UnbindBackward>)]\n",
      "[tensor(0.8579, grad_fn=<UnbindBackward>), tensor(0.0108, grad_fn=<UnbindBackward>)]\n",
      "[tensor([-0.2260,  0.3210], grad_fn=<UnbindBackward>)]\n",
      "[tensor(0.4663, grad_fn=<UnbindBackward>)]\n",
      "tensor([0.2917], grad_fn=<AddBackward0>)\n"
     ]
    }
   ],
   "source": [
    "net_2 = MyNetwork_2(1, 2, 1)\n",
    "\n",
    "print(list(net_2.parameters()))\n",
    "\n",
    "print(list(net_2.fc1.weight))\n",
    "print(list(net_2.fc1.bias))\n",
    "\n",
    "print(list(net_2.fc2.weight))\n",
    "print(list(net_2.fc2.bias))\n",
    "\n",
    "x = torch.Tensor([20.])\n",
    "\n",
    "print(net_2(x))"
   ]
  },
  {
   "cell_type": "code",
   "execution_count": 11,
   "metadata": {},
   "outputs": [
    {
     "name": "stdout",
     "output_type": "stream",
     "text": [
      "MyNetwork(\n",
      "  (fc1): Linear(in_features=16, out_features=12, bias=True)\n",
      "  (fc2): Linear(in_features=12, out_features=10, bias=True)\n",
      "  (fc3): Linear(in_features=10, out_features=1, bias=True)\n",
      ")\n"
     ]
    }
   ],
   "source": [
    "import torch\n",
    "import torch.nn.functional as F\n",
    "from torch import nn\n",
    "\n",
    "# define the network class\n",
    "class MyNetwork(nn.Module):\n",
    "    def __init__(self):\n",
    "        # call constructor from superclass\n",
    "        super().__init__()\n",
    "        \n",
    "        # define network layers\n",
    "        self.fc1 = nn.Linear(16, 12)\n",
    "        self.fc2 = nn.Linear(12, 10)\n",
    "        self.fc3 = nn.Linear(10, 1)\n",
    "        \n",
    "    def forward(self, x):\n",
    "        # define forward pass\n",
    "        x = F.relu(self.fc1(x))\n",
    "        x = F.relu(self.fc2(x))\n",
    "        x = torch.sigmoid(self.fc3(x))\n",
    "        return x\n",
    "\n",
    "# instantiate the model\n",
    "model = MyNetwork()\n",
    "\n",
    "# print model architecture\n",
    "print(model)"
   ]
  },
  {
   "cell_type": "code",
   "execution_count": 12,
   "metadata": {},
   "outputs": [
    {
     "name": "stdout",
     "output_type": "stream",
     "text": [
      "Sequential(\n",
      "  (0): Linear(in_features=16, out_features=12, bias=True)\n",
      "  (1): ReLU()\n",
      "  (2): Linear(in_features=12, out_features=10, bias=True)\n",
      "  (3): ReLU()\n",
      "  (4): Linear(in_features=10, out_features=1, bias=True)\n",
      "  (5): Sigmoid()\n",
      ")\n"
     ]
    }
   ],
   "source": [
    "from torch import nn\n",
    "\n",
    "# define model architecture\n",
    "model = nn.Sequential(\n",
    "    nn.Linear(16, 12),\n",
    "    nn.ReLU(),\n",
    "    nn.Linear(12, 10),\n",
    "    nn.ReLU(),\n",
    "    nn.Linear(10, 1),\n",
    "    nn.Sigmoid()\n",
    ")\n",
    "\n",
    "# print model architecture\n",
    "print(model)"
   ]
  },
  {
   "cell_type": "code",
   "execution_count": 13,
   "metadata": {},
   "outputs": [
    {
     "name": "stdout",
     "output_type": "stream",
     "text": [
      "Linear(in_features=16, out_features=12, bias=True) Parameter containing:\n",
      "tensor([[ 0.2065, -0.0631,  0.0714,  0.2364,  0.0261,  0.0686, -0.0647,  0.0578,\n",
      "         -0.1182,  0.0092,  0.1839,  0.1092, -0.2156, -0.0449,  0.2216, -0.2389],\n",
      "        [-0.2302,  0.0407,  0.2363,  0.1472, -0.0643, -0.2347,  0.2033,  0.0621,\n",
      "          0.0259,  0.1800,  0.0557, -0.2329, -0.0376,  0.2089,  0.0487, -0.0672],\n",
      "        [ 0.0881,  0.1264,  0.0358, -0.0866,  0.0249,  0.2120, -0.0980,  0.0018,\n",
      "         -0.0894, -0.0676,  0.1094, -0.2233, -0.1025, -0.0570, -0.0228,  0.0078],\n",
      "        [ 0.0427, -0.1092,  0.1874,  0.1790,  0.1495,  0.0125, -0.1557, -0.0048,\n",
      "          0.0672,  0.0308, -0.2470, -0.2346,  0.0121, -0.0025,  0.1636, -0.0887],\n",
      "        [-0.0802,  0.1188, -0.1589, -0.0563, -0.1991, -0.0490, -0.1646, -0.0328,\n",
      "         -0.1614,  0.1260,  0.1872, -0.1201, -0.0663, -0.0315,  0.0454, -0.0108],\n",
      "        [-0.1953, -0.0577,  0.1354,  0.0608, -0.0005,  0.2087, -0.0103, -0.1484,\n",
      "         -0.0593,  0.2160,  0.1900,  0.1975, -0.2249, -0.2076, -0.2067, -0.0693],\n",
      "        [-0.1187,  0.0811,  0.1146, -0.1624,  0.0322,  0.1710, -0.0632, -0.0125,\n",
      "          0.1342, -0.2049, -0.1173,  0.1194, -0.0981, -0.2377, -0.1663,  0.1961],\n",
      "        [ 0.1864,  0.2453,  0.2390, -0.1725,  0.0263,  0.0326,  0.0225, -0.1351,\n",
      "          0.1862,  0.2071, -0.1694, -0.0121, -0.0501, -0.2016,  0.2333, -0.0299],\n",
      "        [ 0.0561, -0.1920,  0.0433,  0.0006, -0.2433, -0.1971, -0.0907, -0.0554,\n",
      "         -0.0226,  0.2008,  0.0015,  0.1916, -0.1302,  0.0744, -0.1989, -0.0471],\n",
      "        [ 0.0807, -0.0102, -0.1800, -0.1344,  0.0724, -0.0456, -0.0366,  0.1656,\n",
      "         -0.2206,  0.1105,  0.0395,  0.0524, -0.0207,  0.0129, -0.0910, -0.2477],\n",
      "        [ 0.0890, -0.1344, -0.1075,  0.0586,  0.1676,  0.0779, -0.1682, -0.0646,\n",
      "          0.0925, -0.1922,  0.1907,  0.0009,  0.0405,  0.1655, -0.0928,  0.2052],\n",
      "        [ 0.0303, -0.0926, -0.2306, -0.0069,  0.0206,  0.0734, -0.1885,  0.0072,\n",
      "         -0.2414,  0.0632, -0.2331,  0.1652,  0.0865, -0.2093, -0.0357, -0.1474]],\n",
      "       requires_grad=True)\n"
     ]
    }
   ],
   "source": [
    "print(model[0], model[0].weight)"
   ]
  },
  {
   "cell_type": "code",
   "execution_count": null,
   "metadata": {},
   "outputs": [],
   "source": []
  },
  {
   "cell_type": "code",
   "execution_count": null,
   "metadata": {},
   "outputs": [],
   "source": []
  },
  {
   "cell_type": "code",
   "execution_count": null,
   "metadata": {},
   "outputs": [],
   "source": []
  }
 ],
 "metadata": {
  "kernelspec": {
   "display_name": "Python 3",
   "language": "python",
   "name": "python3"
  },
  "language_info": {
   "codemirror_mode": {
    "name": "ipython",
    "version": 3
   },
   "file_extension": ".py",
   "mimetype": "text/x-python",
   "name": "python",
   "nbconvert_exporter": "python",
   "pygments_lexer": "ipython3",
   "version": "3.7.3"
  }
 },
 "nbformat": 4,
 "nbformat_minor": 4
}
